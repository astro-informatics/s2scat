{
 "cells": [
  {
   "cell_type": "markdown",
   "metadata": {},
   "source": [
    "__Compression (Step-by-Step)__ \n",
    "---\n",
    "\n",
    "[![colab image](https://colab.research.google.com/assets/colab-badge.svg)](https://colab.research.google.com/github/astro-informatics/s2scat/blob/main/notebooks/manual_compression.ipynb)\n",
    "\n",
    "This tutorial demonstrates how to compress a spherical image $x$ into a (relatively) small number of scattering covariance coefficients which, unlike other popular statistics, encode complex non-Gaussian structural information such as filaments.\n",
    "\n",
    "Defining the scattering covariance operation as $\\Phi$ we will consider two basic variants: anisotropic coefficients $\\Phi^a(x)$ and isotropic coefficients $\\Phi^i(x)$.  Anisotropic coefficients are more expressive but higher dimensionality, whereas isotropic coefficients are less expressive but much lower dimensionality.\n",
    "\n",
    "### So what's the difference? \n",
    "\n",
    "At highest order, anisotropic coefficients encode covariant information between 3 different wavelet scales $j$ and directions $\\gamma$. On the other hand, isotropic coefficients average over directions $\\gamma$, sampling the mean covariance structure across scales. Note that isotropic coefficients will still capture directional filamentary structure but will be somewhat less expressive.\n",
    "\n",
    "### What's the latent dimensionality? \n",
    "\n",
    "In this code we restrict ourselves to dyadic wavelets. The maximum number of wavelet scales is determined by the bandlimit $L$ to be $J = \\log_2L$, and the number of directions sampled is simply $2N-1$. So, putting this together for the highest order anisotropic coefficients, and assuming a minimum wavelet scale $J_\\text{min} = 0$, the dimensionality is \n",
    "\n",
    "$$J(J-1)(J-2)N^3 \\sim \\ \\mathcal{O}(J^3N^3) \\sim \\mathcal{O}(\\log_2^3 L N^3).$$\n",
    "\n",
    "So increasing the number of directions can inflate the size of the representation, however for almost all applications $N\\leq3$ is entirely sufficient (finer directional information is captured through the covariance between coarser directions). For isotropic coefficients the number of coefficients is given by \n",
    "\n",
    "$$J(J-1)(J-2) \\sim \\ \\mathcal{O}(J^3) \\sim \\mathcal{O}(\\log_2^3L),$$\n",
    "\n",
    "which is extremely compressed.\n"
   ]
  },
  {
   "cell_type": "markdown",
   "metadata": {},
   "source": [
    "## Import the package\n",
    "\n",
    "Lets first import ``S2SCAT`` and some basic packages."
   ]
  },
  {
   "cell_type": "code",
   "execution_count": 31,
   "metadata": {},
   "outputs": [],
   "source": [
    "import sys\n",
    "IN_COLAB = 'google.colab' in sys.modules\n",
    "\n",
    "# Install a spherical plotting package.\n",
    "!pip install cartopy &> /dev/null\n",
    "\n",
    "# Install s2fft and data if running on google colab.\n",
    "if IN_COLAB:\n",
    "    !pip install s2scat &> /dev/null\n",
    "    !mkdir data/\n"
   ]
  },
  {
   "cell_type": "code",
   "execution_count": 1,
   "metadata": {},
   "outputs": [],
   "source": [
    "import jax\n",
    "jax.config.update(\"jax_enable_x64\", True)\n",
    "\n",
    "from matplotlib import pyplot as plt \n",
    "import numpy as np \n",
    "import cartopy.crs as ccrs \n",
    "import s2scat, s2fft"
   ]
  },
  {
   "cell_type": "markdown",
   "metadata": {},
   "source": [
    "## Configure the problem\n",
    "\n",
    "Lets set up the target field we are aiming to emulate, and the hyperparameters of the scattering covariance representation we will work with."
   ]
  },
  {
   "cell_type": "code",
   "execution_count": 2,
   "metadata": {},
   "outputs": [],
   "source": [
    "L = 256                # Spherical harmonic bandlimit.\n",
    "N = 3                  # Azimuthal bandlimit (directionality).\n",
    "J_min = 2              # Minimum wavelet scale.\n",
    "reality = True         # Input signal is real.\n",
    "recursive = False      # Use the fully precompute transform.\n",
    "\n",
    "# Lets load in the spherical field we wish to model\n",
    "x = np.load('data/target_map_lss.npy')\n",
    "xlm = s2fft.forward_jax(x, L, reality=reality)[:,L-1:]"
   ]
  },
  {
   "cell_type": "markdown",
   "metadata": {},
   "source": [
    "Before calling the scattering transform you need to run configuration, which will generate any precomputed arrays and cache them. When running the recursive transform this shouldn't take much memory at all. However, the fully precompute transform, which is much faster, can be extremely memory hungry at L ~ 512 and above!"
   ]
  },
  {
   "cell_type": "code",
   "execution_count": 4,
   "metadata": {},
   "outputs": [],
   "source": [
    "config = s2scat.configure(L, N, J_min, reality, recursive)"
   ]
  },
  {
   "cell_type": "markdown",
   "metadata": {},
   "source": [
    "## Compute anisotropic scattering covariances\n",
    "\n",
    "Now all we have to do is apply ``S2SCAT`` to compute the statistics."
   ]
  },
  {
   "cell_type": "code",
   "execution_count": 6,
   "metadata": {},
   "outputs": [],
   "source": [
    "covariances = s2scat.scatter(xlm, L, N, J_min, reality, config, recursive=recursive)"
   ]
  },
  {
   "cell_type": "markdown",
   "metadata": {},
   "source": [
    "So what is actually in this covariances Tuple? Essentially it is a list of:\n",
    "\n",
    "- covariances[0]: The field mean.\n",
    "- covariances[1]: The field variance.\n",
    "- covariances[2]: The mean power in each direction ($S_1$).\n",
    "- covariances[3]: The mean power in each wavelet scale ($S_2$).\n",
    "- covariances[4]: The fourth order covariance between two wavelet scales and two directions, defined as \n",
    "\n",
    "$$ S_3 = \\text{Cov} \\big[\\Psi^{\\lambda_1} x, \\Psi^{\\lambda_1} | \\Psi^{\\lambda_2} x | \\big] $$\n",
    "\n",
    "- covariances[5]: The sixth order covariance between three wavelet scales and three directions, defined as \n",
    "\n",
    "$$ S_4 = \\text{Cov}\\big [ \\Psi^{\\lambda_1} | \\Psi^{\\lambda_3} x |, \\Psi^{\\lambda_1} | \\Psi^{\\lambda_2} x | \\big ] $$"
   ]
  },
  {
   "cell_type": "code",
   "execution_count": 7,
   "metadata": {},
   "outputs": [
    {
     "name": "stdout",
     "output_type": "stream",
     "text": [
      "Number of coefficients for anisotropic covariance[0]: ()\n",
      "Number of coefficients for anisotropic covariance[1]: ()\n",
      "Number of coefficients for anisotropic covariance[2]: (35,)\n",
      "Number of coefficients for anisotropic covariance[3]: (35,)\n",
      "Number of coefficients for anisotropic covariance[4]: (525,)\n",
      "Number of coefficients for anisotropic covariance[5]: (11375,)\n"
     ]
    }
   ],
   "source": [
    "for i in range(6):\n",
    "    print(\"Number of coefficients for anisotropic covariance[{}]: {}\".format(i, covariances[i].shape))"
   ]
  },
  {
   "cell_type": "markdown",
   "metadata": {},
   "source": [
    "## Compute isotropic scattering covariances\n",
    "\n",
    "Instead, lets now compute the isotropic version of these statistics."
   ]
  },
  {
   "cell_type": "code",
   "execution_count": 8,
   "metadata": {},
   "outputs": [],
   "source": [
    "covariances = s2scat.scatter(xlm, L, N, J_min, reality, config, recursive=recursive, isotropic=True)"
   ]
  },
  {
   "cell_type": "markdown",
   "metadata": {},
   "source": [
    "These have much lower dimensionality that the anisotropic coefficients."
   ]
  },
  {
   "cell_type": "code",
   "execution_count": 9,
   "metadata": {},
   "outputs": [
    {
     "name": "stdout",
     "output_type": "stream",
     "text": [
      "Number of coefficients for isotropic covariance[0]: ()\n",
      "Number of coefficients for isotropic covariance[1]: ()\n",
      "Number of coefficients for isotropic covariance[2]: (35,)\n",
      "Number of coefficients for isotropic covariance[3]: (35,)\n",
      "Number of coefficients for isotropic covariance[4]: (21,)\n",
      "Number of coefficients for isotropic covariance[5]: (91,)\n"
     ]
    }
   ],
   "source": [
    "for i in range(6):\n",
    "    print(\"Number of coefficients for isotropic covariance[{}]: {}\".format(i, covariances[i].shape))"
   ]
  },
  {
   "cell_type": "markdown",
   "metadata": {},
   "source": [
    "But they still encode significant non-Gaussian structural information!"
   ]
  },
  {
   "cell_type": "markdown",
   "metadata": {},
   "source": [
    "## What next?\n",
    "\n",
    "This compression may well be sufficient as it is for many applications.  Nevertheless, one may wish to go even further and consider applying other compression approaches as an additional stage.\n",
    "\n",
    "In any case there are a number of use cases for the scattering covariances that extend beyond compression, such as emulation, where the scattering coefficients are used for a statistical generative model.  An overview for this is provided in another example notebook."
   ]
  }
 ],
 "metadata": {
  "kernelspec": {
   "display_name": "Python 3.10.0 ('s2fft')",
   "language": "python",
   "name": "python3"
  },
  "language_info": {
   "codemirror_mode": {
    "name": "ipython",
    "version": 3
   },
   "file_extension": ".py",
   "mimetype": "text/x-python",
   "name": "python",
   "nbconvert_exporter": "python",
   "pygments_lexer": "ipython3",
   "version": "3.10.0"
  },
  "orig_nbformat": 4,
  "vscode": {
   "interpreter": {
    "hash": "3425e24474cbe920550266ea26b478634978cc419579f9dbcf479231067df6a3"
   }
  }
 },
 "nbformat": 4,
 "nbformat_minor": 2
}

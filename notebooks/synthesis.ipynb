{
 "cells": [
  {
   "cell_type": "code",
   "execution_count": null,
   "metadata": {},
   "outputs": [],
   "source": [
    "# Specify CUDA device\n",
    "import os, pickle, time\n",
    "os.environ['CUDA_VISIBLE_DEVICES'] = '2'\n",
    "\n",
    "import jax, optax, jaxopt\n",
    "jax.config.update(\"jax_enable_x64\", True)\n",
    "\n",
    "from jax.lib import xla_bridge\n",
    "print(xla_bridge.get_backend().platform)\n",
    "\n",
    "import jax.numpy as jnp\n",
    "import numpy as np \n",
    "from matplotlib import pyplot as plt \n",
    "\n",
    "import s2scat \n",
    "import s2fft\n",
    "import s2wav\n",
    "from s2fft.sampling import s2_samples as samples"
   ]
  },
  {
   "cell_type": "code",
   "execution_count": null,
   "metadata": {},
   "outputs": [],
   "source": [
    "L = 512\n",
    "N = 3\n",
    "J_min = 0\n",
    "reality = True\n",
    "recursive = False\n",
    "\n",
    "generator = s2scat.operators.matrices.generate_recursive_matrices if recursive  else s2scat.operators.matrices.generate_precompute_matrices\n",
    "cmap=\"magma\"\n",
    "\n",
    "map_type = 'weak_lensing'\n",
    "f = np.load('texture_maps/{}/CosmoML_f_{}.npy'.format(map_type, L))\n",
    "flm = np.load('texture_maps/{}/CosmoML_flm_{}.npy'.format(map_type, L))\n",
    "\n",
    "file = 'texture_maps/{}/targets_{}.pickle'.format(map_type, L)\n",
    "with open(file, 'rb') as handle:\n",
    "    targets, norm = pickle.load(handle)"
   ]
  },
  {
   "cell_type": "code",
   "execution_count": null,
   "metadata": {},
   "outputs": [],
   "source": [
    "wavelets = s2wav.filters.filters_directional_vectorised(L, N)[0]\n",
    "matrices = generator(L, N, J_min, reality)\n",
    "quads = s2scat.operators.spherical.quadrature(L, J_min)\n",
    "wavelets_linear = s2wav.filters.filters_directional_vectorised(L=L, N=N, J_min=J_min, lam=np.sqrt(2.5))[0][J_min:-2, :, L-1]"
   ]
  },
  {
   "cell_type": "code",
   "execution_count": null,
   "metadata": {},
   "outputs": [],
   "source": [
    "# L_in = 512\n",
    "# L_out = 512\n",
    "\n",
    "# f_new = s2scat.utility.statistics.normalize_map(f)\n",
    "\n",
    "# flm = s2fft.forward(f_new, L_in, reality=reality, method=\"jax\")\n",
    "# flm = samples.flm_2d_to_1d(flm, L_in)\n",
    "# flm_new = flm[:L_out**2]\n",
    "# flm_new = samples.flm_1d_to_2d(flm_new, L_out)\n",
    "# flm_new = s2scat.operators.spherical.make_flm_real(flm, L_out)\n",
    "\n",
    "# np.save('texture_maps/{}/CosmoML_f_{}.npy'.format(map_type, L_out), f_new)\n",
    "# np.save('texture_maps/{}/CosmoML_flm_{}.npy'.format(map_type, L_out), flm_new)\n",
    "\n",
    "# norm = s2scat.utility.normalisation.compute_norm(flm, L, N, J_min, reality, wavelets, matrices, recursive)\n",
    "# targets = s2scat.core.scatter.directional(flm, L, N, J_min, reality, wavelets, norm, quads, matrices, recursive)\n",
    "\n",
    "# file = 'texture_maps/{}/targets_{}.pickle'.format(map_type, L)\n",
    "# with open(file, 'wb') as handle:\n",
    "#     pickle.dump([targets, norm], handle)\n"
   ]
  },
  {
   "cell_type": "code",
   "execution_count": null,
   "metadata": {},
   "outputs": [],
   "source": [
    "@jax.jit\n",
    "def get_P00prime(alm, filter_lin, normalisation):\n",
    "    P00prime_ell = jnp.sum(jnp.abs(alm[None, :, :] * filter_lin[:, :, None])**2, axis=2)  # [Nfilters, L]\n",
    "    P00prime = jnp.mean(P00prime_ell, axis=1)  # [Nfilters]\n",
    "    if normalisation is not None:\n",
    "        P00prime /= normalisation\n",
    "    return P00prime_ell, P00prime\n",
    "\n",
    "_, tP00prime_norm = get_P00prime(flm, wavelets_linear, None)\n",
    "_, tP00prime = get_P00prime(flm, wavelets_linear, tP00prime_norm)"
   ]
  },
  {
   "cell_type": "code",
   "execution_count": null,
   "metadata": {},
   "outputs": [],
   "source": [
    "@jax.jit \n",
    "def chi2_loss(predicts):\n",
    "    loss = 0\n",
    "    for i in range(6):\n",
    "        loss += jnp.mean(jnp.abs(predicts[i]-targets[i])**2)\n",
    "    return loss\n",
    "\n",
    "def loss_func(glm_float):\n",
    "    # Make complex flm\n",
    "    # glm = glm_float[0, :, :] + 1j * glm_float[1, :, :]\n",
    "    glm = glm_float\n",
    "    predicts = s2scat.core.scatter.directional(glm, L, N, J_min, reality, wavelets, norm, quads, matrices, recursive)\n",
    "    \n",
    "    # Match statistics\n",
    "    loss = chi2_loss(predicts)\n",
    "    _, P00prime_new = get_P00prime(glm, wavelets_linear, tP00prime_norm)\n",
    "    loss += jnp.mean(jnp.abs(P00prime_new-tP00prime)**2)\n",
    "\n",
    "    return loss"
   ]
  },
  {
   "cell_type": "code",
   "execution_count": null,
   "metadata": {},
   "outputs": [],
   "source": [
    "def compute_ps(alm):\n",
    "    \"\"\"Compute the angular power spectrum Cls = 1/(2l+1) Sum_m[|f_lm|^2].\"\"\"\n",
    "    L = alm.shape[0]\n",
    "    ell = np.arange(L)\n",
    "    Cls = jnp.nansum(jnp.abs(alm) ** 2, axis=-1) / (2 * ell + 1)\n",
    "    # Cls = 2. * Cls - Cls[0]\n",
    "    return Cls\n",
    "\n",
    "# def generate_grf(ps, L):\n",
    "#     alm = np.zeros((L, L), dtype=np.complex128)\n",
    "#     for l in range(L):\n",
    "#         alm[l,0] = np.sqrt(ps[l]) * np.random.randn()\n",
    "#         for m in range(1,l):\n",
    "#             alm[l,m] = np.sqrt(ps[l]) * (np.random.randn() + 1j*np.random.randn())\n",
    "#     return alm"
   ]
  },
  {
   "cell_type": "code",
   "execution_count": null,
   "metadata": {},
   "outputs": [],
   "source": [
    "# target_ps = compute_ps(flm)\n",
    "# glm = generate_grf(target_ps, L)\n",
    "concat = np.concatenate((np.real(flm), np.imag(flm)))\n",
    "sigma_bar = np.std(concat[concat!=0])\n",
    "print(sigma_bar)\n",
    "glm = np.random.randn(L, L) * sigma_bar + 1j*np.random.randn(L, L) * sigma_bar \n",
    "glm_start = jnp.copy(glm)\n",
    "g_start = s2fft.inverse(s2scat.operators.spherical.make_flm_full(glm_start, L), L, reality=reality, method=\"jax\")"
   ]
  },
  {
   "cell_type": "code",
   "execution_count": null,
   "metadata": {},
   "outputs": [],
   "source": [
    "fig, (ax1,ax2) = plt.subplots(1,2)\n",
    "mx, mn = np.nanmax(f), np.nanmin(f)\n",
    "ax1.imshow(f, cmap=cmap, vmax=mx, vmin=mn)\n",
    "ax2.imshow(g_start, cmap=cmap, vmax=mx, vmin=mn)\n",
    "plt.show()"
   ]
  },
  {
   "cell_type": "code",
   "execution_count": null,
   "metadata": {},
   "outputs": [],
   "source": [
    "def fit_jaxopt_Scipy(params, loss_func, method='L-BFGS-B', niter: int = 10, loss_history: list = None):\n",
    "    if loss_history is None:\n",
    "        loss_history = []\n",
    "        loss_history.append(loss_func(params))\n",
    "\n",
    "    optimizer = jaxopt.ScipyMinimize(fun=loss_func, method=method, jit=False, maxiter=1)\n",
    "\n",
    "    for i in range(niter):\n",
    "        start = time.time()\n",
    "        params, opt_state = optimizer.run(params)\n",
    "        end = time.time()\n",
    "        if i % 10 == 0:\n",
    "            loss_history.append(opt_state.fun_val)\n",
    "            print(\n",
    "                f'Iter {i}, Success: {opt_state.success}, Loss = {opt_state.fun_val}, Time = {end - start:.5f} s/iter')\n",
    "\n",
    "    return params, loss_history\n",
    "\n",
    "def fit_optax(params: optax.Params, optimizer: optax.GradientTransformation, loss_func,\n",
    "              niter: int = 10, loss_history: list = None) -> optax.Params:\n",
    "    ### Gradient of the loss function\n",
    "    grad_func = jax.grad(loss_func)\n",
    "\n",
    "    if loss_history is None:\n",
    "        loss_history = []\n",
    "    opt_state = optimizer.init(params)\n",
    "    for i in range(niter):\n",
    "        start = time.time()\n",
    "        grads = jnp.conj(grad_func(params)) \n",
    "        updates, opt_state = optimizer.update(grads, opt_state, params)\n",
    "        params = optax.apply_updates(params, updates)\n",
    "        end = time.time()\n",
    "\n",
    "        # Save iterant for animation\n",
    "        filename = '/disk/xray0/mp2/synthesis_iterations/map_{}.npy'.format(i).zfill(4)\n",
    "        np.save(filename, params)\n",
    "\n",
    "        if i % 10 == 0:\n",
    "            loss_value = loss_func(params)\n",
    "            loss_history.append(loss_value)\n",
    "            print(f'Iter {i}, Loss: {loss_value:.10f}, Time = {end - start:.5f} s/iter')\n",
    "\n",
    "    return params, loss_history"
   ]
  },
  {
   "cell_type": "code",
   "execution_count": null,
   "metadata": {},
   "outputs": [],
   "source": [
    "### OPTAX\n",
    "niter = 2000\n",
    "optimizer = optax.adam(1e-4)\n",
    "glm, loss_history = fit_optax(glm, optimizer, loss_func, niter=niter, loss_history=None)\n",
    "glm_end = jnp.copy(glm)\n",
    "\n",
    "# ### JAXOPT\n",
    "# niter=200\n",
    "# glm_float = jnp.array([jnp.real(glm), jnp.imag(glm)]) # [2, L, L]          \n",
    "# glm, loss_history = fit_jaxopt_Scipy(glm_float, loss_func, method='L-BFGS-B', niter=niter, loss_history=None)\n",
    "# glm_end = glm[0, :, :] + 1j * glm[1, :, :]"
   ]
  },
  {
   "cell_type": "code",
   "execution_count": null,
   "metadata": {},
   "outputs": [],
   "source": [
    "g_end = s2fft.inverse(s2scat.operators.spherical.make_flm_full(glm_end, L), L, reality=reality, method=\"jax\")\n",
    "temp = np.zeros_like(g_end)\n",
    "L_step = -3+(2*L-1)//3\n",
    "temp[:,:L_step] = f[:,:L_step]\n",
    "temp[:,L_step+1:2*L_step] = g_start[:,L_step+1:2*L_step]\n",
    "temp[:,2*L_step+1:] = g_end[:,2*L_step+1:]\n",
    "\n",
    "temp[:,L_step] = 100.0\n",
    "temp[:,2*L_step] = 100.0\n",
    "mx, mn = np.nanmax(f), np.nanmin(f)\n",
    "plt.figure(figsize=(20,10))\n",
    "plt.imshow(temp, cmap=\"magma\", vmax=mx, vmin=mn)\n",
    "plt.show()\n"
   ]
  },
  {
   "cell_type": "code",
   "execution_count": null,
   "metadata": {},
   "outputs": [],
   "source": []
  }
 ],
 "metadata": {
  "kernelspec": {
   "display_name": "Python 3.11.0 64-bit ('s2scat')",
   "language": "python",
   "name": "python3"
  },
  "language_info": {
   "codemirror_mode": {
    "name": "ipython",
    "version": 3
   },
   "file_extension": ".py",
   "mimetype": "text/x-python",
   "name": "python",
   "nbconvert_exporter": "python",
   "pygments_lexer": "ipython3",
   "version": "3.11.0"
  },
  "orig_nbformat": 4,
  "vscode": {
   "interpreter": {
    "hash": "29bac9ffda43450bc3af04af8c210d0c64d213e4c5a5e47d195190fdaa889edd"
   }
  }
 },
 "nbformat": 4,
 "nbformat_minor": 2
}

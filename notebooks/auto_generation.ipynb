{
 "cells": [
  {
   "cell_type": "markdown",
   "metadata": {},
   "source": [
    "__Generating realisations (Basic)__ \n",
    "---\n",
    "\n",
    "[![colab image](https://colab.research.google.com/assets/colab-badge.svg)](https://colab.research.google.com/github/astro-informatics/s2scat/blob/main/notebooks/synthesis.ipynb)\n",
    "\n",
    "This tutorial is a basic overview of how one may use the scattering covariances as a statistical generative model. \n",
    "\n",
    "Generative AI models typically require the abundance of realistic training data. In many (often high dimensional) application domains, such as the sciences, such training data does not exist, limiting generative AI approaches.\n",
    "\n",
    "One may instead construct an expressive statistical representation from which, provided at least a single fiducial realisation, many realisations may be drawn. This concept is actually very familiar, particularly in cosmology where it is typical to draw Gaussian realisations from a known power spectrum.  However, this generative model does not capture complex non-linear structural information.\n",
    "\n",
    "Here we will instead use the scattering covariances $\\Phi(x)$ as our statistical representation. Given $\\Phi$ is a non-linear function of the data $x$, generating new realisations isn't quite so straightforward.  In fact, to do so we'll need to minimise the loss function:\n",
    "\n",
    "$$ \\mathcal{L}(x) = ||\\Phi(x) - \\Phi(x_t)||^2_2$$\n",
    "\n",
    "where $\\Phi(x_t)$ are the target covariances computed from the signal we are aiming to emulate $x_t$. To solve this optimisation with gradient based methods we clearly need to be able to differentiate through $\\Phi$ which is a complex function involving wavelet transforms, non-linearities, spherical harmonic and Wigner transforms. \n",
    "\n",
    "As ``S2SCAT`` is a ``JAX`` package, we can readily access these gradients, so lets see exactly how this works! "
   ]
  },
  {
   "cell_type": "markdown",
   "metadata": {},
   "source": [
    "## Import the package\n",
    "\n",
    "Lets first import ``S2SCAT`` and some basic plotting functions. We'll also pick up ``pickle`` to load the targets which have been stored just to save you some time."
   ]
  },
  {
   "cell_type": "code",
   "execution_count": null,
   "metadata": {},
   "outputs": [],
   "source": [
    "import sys\n",
    "IN_COLAB = 'google.colab' in sys.modules\n",
    "\n",
    "# Install a spherical plotting package.\n",
    "!pip install cartopy &> /dev/null\n",
    "\n",
    "# Install s2fft and data if running on google colab.\n",
    "if IN_COLAB:\n",
    "    !pip install s2scat &> /dev/null\n",
    "    !mkdir data/\n",
    "    # Update below to include data files that we need on colab\n",
    "    # !wget https://github.com/astro-informatics/s2fft/raw/main/notebooks/data/Gaia_EDR3_flux.npy -P data/ &> /dev/null"
   ]
  },
  {
   "cell_type": "code",
   "execution_count": null,
   "metadata": {},
   "outputs": [],
   "source": [
    "import jax, pickle\n",
    "jax.config.update(\"jax_enable_x64\", True)\n",
    "\n",
    "from matplotlib import pyplot as plt \n",
    "import numpy as np \n",
    "import cartopy.crs as ccrs \n",
    "import s2scat, s2fft"
   ]
  },
  {
   "cell_type": "markdown",
   "metadata": {},
   "source": [
    "## Configure the problem"
   ]
  },
  {
   "cell_type": "markdown",
   "metadata": {},
   "source": [
    "Lets set up the target field we are aiming to emulate, and the hyperparameters of the scattering covariance representation we will work with."
   ]
  },
  {
   "cell_type": "code",
   "execution_count": null,
   "metadata": {},
   "outputs": [],
   "source": [
    "L = 128                # Spherical harmonic bandlimit.\n",
    "N = 3                  # Azimuthal bandlimit (directionality).\n",
    "J_min = 0              # Minimum wavelet scale.\n",
    "reality = True         # Input signal is real.\n",
    "recursive = False      # Use the fully precompute transform.\n",
    "\n",
    "# Lets load in spherical harmonic coefficients we want to model\n",
    "xlm = np.load('data/WL_example_flm_{}.npy'.format(L))"
   ]
  },
  {
   "cell_type": "markdown",
   "metadata": {},
   "source": [
    "## Build the generative model"
   ]
  },
  {
   "cell_type": "markdown",
   "metadata": {},
   "source": [
    "We have included an easy to use function which will return the generative model as a callable function. This is done by calling the following function."
   ]
  },
  {
   "cell_type": "code",
   "execution_count": null,
   "metadata": {},
   "outputs": [],
   "source": [
    "model = s2scat.generation.build_model(xlm, L, N, J_min, reality, recursive)"
   ]
  },
  {
   "cell_type": "markdown",
   "metadata": {},
   "source": [
    "## Decode some textures from the model"
   ]
  },
  {
   "cell_type": "markdown",
   "metadata": {},
   "source": [
    "The model function takes a JAX random key which is used to reliably generate random arrays from which to initialise the optimisation. It is also vectorised to allow multiple generations simultaneously."
   ]
  },
  {
   "cell_type": "code",
   "execution_count": null,
   "metadata": {},
   "outputs": [],
   "source": [
    "key = jax.random.PRNGKey(0)\n",
    "xlm_new = model(key, 1, 5, 1e-3)"
   ]
  },
  {
   "cell_type": "markdown",
   "metadata": {},
   "source": [
    "We've generated some new harmonic coefficients $x_{\\ell m}$ so we now need to map these back to spherical images which we'll do in HEALPix sampling."
   ]
  },
  {
   "cell_type": "markdown",
   "metadata": {},
   "source": [
    "## View these textures"
   ]
  },
  {
   "cell_type": "markdown",
   "metadata": {},
   "source": [
    "Finally, lets check how our generated textures shape up against the target field!"
   ]
  },
  {
   "cell_type": "code",
   "execution_count": null,
   "metadata": {},
   "outputs": [],
   "source": [
    "fields = [x_t, x_start, x_end]\n",
    "titles = [\"Target\", \"Start\", \"Emulation\"]\n",
    "fig, axs = plt.subplots(1, 3, subplot_kw={'projection': ccrs.Mollweide()}, figsize=(30,10))\n",
    "mx, mn = np.nanmax(x_t), np.nanmin(x_t)\n",
    "for i in range(3):   \n",
    "    axs[i].imshow(fields[i], transform=ccrs.PlateCarree(), cmap='magma', vmax=mx, vmin=mn)\n",
    "    axs[i].set_title(titles[i])\n",
    "    axs[i].axis('off')\n",
    "plt.show()"
   ]
  }
 ],
 "metadata": {
  "kernelspec": {
   "display_name": "Python 3.11.0 ('s2scat')",
   "language": "python",
   "name": "python3"
  },
  "language_info": {
   "codemirror_mode": {
    "name": "ipython",
    "version": 3
   },
   "file_extension": ".py",
   "mimetype": "text/x-python",
   "name": "python",
   "nbconvert_exporter": "python",
   "pygments_lexer": "ipython3",
   "version": "3.11.0"
  },
  "orig_nbformat": 4,
  "vscode": {
   "interpreter": {
    "hash": "0ff6fc9eb7f710a5e498c8d33dd504161241529ee837967084a282879cc0fea1"
   }
  }
 },
 "nbformat": 4,
 "nbformat_minor": 2
}

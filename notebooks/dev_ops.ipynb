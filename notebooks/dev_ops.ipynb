{
 "cells": [
  {
   "cell_type": "code",
   "execution_count": 1,
   "metadata": {},
   "outputs": [],
   "source": [
    "import jax\n",
    "jax.config.update(\"jax_enable_x64\", True)\n",
    "\n",
    "import jax.numpy as jnp\n",
    "import numpy as np \n",
    "import s2scat \n",
    "import s2fft\n",
    "import s2wav"
   ]
  },
  {
   "cell_type": "code",
   "execution_count": 2,
   "metadata": {},
   "outputs": [],
   "source": [
    "L = 16\n",
    "N = 3\n",
    "reality = False\n",
    "flm = jnp.array(np.random.randn(L, 2*L-1) + 1j*np.random.randn(L, 2*L-1))\n",
    "filters = s2wav.filters.filters_directional_vectorised(L, N)[0]"
   ]
  },
  {
   "cell_type": "code",
   "execution_count": 4,
   "metadata": {},
   "outputs": [],
   "source": [
    "precomps = s2scat.utility.kernels.generate_full_precompute(L,N)"
   ]
  },
  {
   "cell_type": "code",
   "execution_count": 4,
   "metadata": {},
   "outputs": [],
   "source": [
    "coeffs_old = s2scat.core.scatter.scat_cov_dir(flm, \n",
    "    L, \n",
    "    N, \n",
    "    J_min=0,\n",
    "    multiresolution=True, \n",
    "    for_synthesis=True, \n",
    "    filters=filters,\n",
    "    precomps=precomps\n",
    ")"
   ]
  },
  {
   "cell_type": "code",
   "execution_count": 5,
   "metadata": {},
   "outputs": [],
   "source": [
    "coeffs_new = s2scat.core.scatter_new.directional(flm, \n",
    "    L, \n",
    "    N, \n",
    "    J_min=0,\n",
    "    filters=filters,\n",
    "    precomps=precomps\n",
    ")"
   ]
  },
  {
   "cell_type": "code",
   "execution_count": 6,
   "metadata": {},
   "outputs": [],
   "source": [
    "for i in range(6):\n",
    "    np.testing.assert_allclose(coeffs_new[i], coeffs_old[i])"
   ]
  },
  {
   "cell_type": "code",
   "execution_count": 7,
   "metadata": {},
   "outputs": [],
   "source": [
    "def old_func(flm):\n",
    "    coeff = s2scat.core.scatter.scat_cov_dir(flm, \n",
    "        L, \n",
    "        N, \n",
    "        J_min=0,\n",
    "        multiresolution=True, \n",
    "        for_synthesis=True, \n",
    "        filters=filters,\n",
    "        precomps=precomps\n",
    "    )\n",
    "    loss = 0\n",
    "    for i in range(6):\n",
    "        loss += jnp.sum(jnp.abs(coeff[i]))\n",
    "    return loss\n",
    "\n",
    "def new_func(flm):\n",
    "    coeff = s2scat.core.scatter_new.directional(flm, \n",
    "        L, \n",
    "        N, \n",
    "        J_min=0,\n",
    "        filters=filters,\n",
    "        precomps=precomps\n",
    "    )\n",
    "    loss = 0\n",
    "    for i in range(6):\n",
    "        loss += jnp.sum(jnp.abs(coeff[i]))\n",
    "    return loss\n",
    "\n"
   ]
  }
 ],
 "metadata": {
  "kernelspec": {
   "display_name": "Python 3.11.0 ('s2scat')",
   "language": "python",
   "name": "python3"
  },
  "language_info": {
   "codemirror_mode": {
    "name": "ipython",
    "version": 3
   },
   "file_extension": ".py",
   "mimetype": "text/x-python",
   "name": "python",
   "nbconvert_exporter": "python",
   "pygments_lexer": "ipython3",
   "version": "3.11.0"
  },
  "orig_nbformat": 4,
  "vscode": {
   "interpreter": {
    "hash": "0ff6fc9eb7f710a5e498c8d33dd504161241529ee837967084a282879cc0fea1"
   }
  }
 },
 "nbformat": 4,
 "nbformat_minor": 2
}

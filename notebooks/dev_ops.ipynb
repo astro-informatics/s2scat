{
 "cells": [
  {
   "cell_type": "code",
   "execution_count": null,
   "metadata": {},
   "outputs": [],
   "source": [
    "import jax\n",
    "jax.config.update(\"jax_enable_x64\", True)\n",
    "\n",
    "import jax.numpy as jnp\n",
    "import numpy as np \n",
    "from matplotlib import pyplot as plt \n",
    "\n",
    "import s2scat \n",
    "import s2fft\n",
    "import s2wav"
   ]
  },
  {
   "cell_type": "code",
   "execution_count": null,
   "metadata": {},
   "outputs": [],
   "source": [
    "L = 1024\n",
    "N = 3\n",
    "reality = True\n",
    "f = np.load(\"texture_maps/venus_1024.npy\")\n",
    "flm = np.load(\"texture_maps/venus_alm_1024.npy\")"
   ]
  },
  {
   "cell_type": "code",
   "execution_count": null,
   "metadata": {},
   "outputs": [],
   "source": [
    "plt.imshow(f, cmap='twilight')\n",
    "plt.show()"
   ]
  },
  {
   "cell_type": "code",
   "execution_count": null,
   "metadata": {},
   "outputs": [],
   "source": [
    "wavelets = s2wav.filters.filters_directional_vectorised(L, N)[0]\n",
    "matrices = s2scat.operators.matrices.generate_recursive_matrices(L, N, reality=reality)\n",
    "norm = s2scat.utility.normalisation.compute_norm(flm, L, N, reality=reality, filters=wavelets, precomps=matrices, recursive=True)"
   ]
  },
  {
   "cell_type": "code",
   "execution_count": null,
   "metadata": {},
   "outputs": [],
   "source": [
    "target_coefficients = s2scat.core.scatter.directional(\n",
    "    flm, \n",
    "    L, \n",
    "    N, \n",
    "    reality=reality,\n",
    "    filters=wavelets,\n",
    "    norm=norm,\n",
    "    precomps=matrices,\n",
    "    recursive=True\n",
    ")"
   ]
  }
 ],
 "metadata": {
  "kernelspec": {
   "display_name": "Python 3.11.0 ('s2scat')",
   "language": "python",
   "name": "python3"
  },
  "language_info": {
   "codemirror_mode": {
    "name": "ipython",
    "version": 3
   },
   "file_extension": ".py",
   "mimetype": "text/x-python",
   "name": "python",
   "nbconvert_exporter": "python",
   "pygments_lexer": "ipython3",
   "version": "3.11.0"
  },
  "orig_nbformat": 4,
  "vscode": {
   "interpreter": {
    "hash": "0ff6fc9eb7f710a5e498c8d33dd504161241529ee837967084a282879cc0fea1"
   }
  }
 },
 "nbformat": 4,
 "nbformat_minor": 2
}
